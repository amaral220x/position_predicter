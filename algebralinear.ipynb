{
  "cells": [
    {
      "cell_type": "code",
      "execution_count": 125,
      "metadata": {
        "id": "c0Rz2GbkORF1"
      },
      "outputs": [],
      "source": [
        "import numpy as np\n",
        "import pandas as pd"
      ]
    },
    {
      "cell_type": "code",
      "execution_count": 126,
      "metadata": {
        "id": "guJMiRDaQHW8"
      },
      "outputs": [],
      "source": [
        "def norma(a):\n",
        "  a = np.array(a)\n",
        "  at = a.T\n",
        "  return math.sqrt(np.dot(a,at)) "
      ]
    },
    {
      "cell_type": "code",
      "execution_count": 127,
      "metadata": {
        "id": "wWgHnRD2Vw-S"
      },
      "outputs": [],
      "source": [
        "def normalizar(a):\n",
        "  a = np.array(a)\n",
        "  return a/norma(a)"
      ]
    },
    {
      "cell_type": "code",
      "execution_count": 128,
      "metadata": {
        "id": "cp3YQ-l0XVWH"
      },
      "outputs": [],
      "source": [
        "def dist(a,b):\n",
        "  a = np.array(a)\n",
        "  b = np.array(b)\n",
        "  return norma(b-a)"
      ]
    },
    {
      "cell_type": "code",
      "execution_count": 129,
      "metadata": {
        "colab": {
          "base_uri": "https://localhost:8080/"
        },
        "id": "ClSaH3IlOxL9",
        "outputId": "01daf031-f047-4720-a412-e6be83717878"
      },
      "outputs": [],
      "source": [
        "def projecao(a,b):\n",
        "  a = np.array(a)\n",
        "  b = np.array(b)\n",
        "  return np.dot(a,b)/np.dot(a,a)*a"
      ]
    },
    {
      "cell_type": "code",
      "execution_count": 130,
      "metadata": {},
      "outputs": [],
      "source": [
        "def cos(a,b):\n",
        "    p = projecao(a,b)\n",
        "    return norma(p)/norma(b)"
      ]
    },
    {
      "cell_type": "code",
      "execution_count": 131,
      "metadata": {},
      "outputs": [],
      "source": [
        "def avarage_vector(a):\n",
        "    a = np.array(a)\n",
        "    return np.mean(a,axis=0)"
      ]
    },
    {
      "cell_type": "code",
      "execution_count": 132,
      "metadata": {},
      "outputs": [
        {
          "data": {
            "text/plain": [
              "array([3.33333333, 4.33333333, 5.33333333])"
            ]
          },
          "execution_count": 132,
          "metadata": {},
          "output_type": "execute_result"
        }
      ],
      "source": [
        "a = np.array([[1,2,3],[2,3,4],[7,8,9]])\n",
        "avarage_vector(a)"
      ]
    },
    {
      "cell_type": "code",
      "execution_count": 133,
      "metadata": {},
      "outputs": [],
      "source": [
        "def tratar_df(df): # trata o dataframe, excluindo colunas inuteis.\n",
        "    df = df.loc[:, 'pace':'goalkeeping_reflexes']\n",
        "    #df = df.drop(['player_positions','long_name', 'wage_eur', 'dob', 'height_cm', 'weight_kg', 'club_team_id'], axis=1)\n",
        "    #df = df.drop(df.loc[:, 'club_jersey_number':'player_traits'], axis=1)\n",
        "    df = df.to_numpy()\n",
        "    return df"
      ]
    },
    {
      "cell_type": "code",
      "execution_count": 134,
      "metadata": {},
      "outputs": [],
      "source": [
        "def gerar_dfs(df, pos):\n",
        "    dfs = []\n",
        "    for i in pos: \n",
        "        dfs.append(avarage_vector(tratar_df(df[df['club_position'] == i])))\n",
        "    return dfs"
      ]
    },
    {
      "cell_type": "code",
      "execution_count": 135,
      "metadata": {},
      "outputs": [],
      "source": [
        "def predict(dict, pos_nomes, player):\n",
        "    coss = []\n",
        "    for p in pos_nomes:\n",
        "        coss.append(cos(player[0], dict[p]))\n",
        "    pos = {pos_nomes[i]:coss[i] for i in range(len(pos_nomes))}\n",
        "    return max(pos, key=pos.get)\n"
      ]
    },
    {
      "cell_type": "code",
      "execution_count": 136,
      "metadata": {},
      "outputs": [
        {
          "name": "stderr",
          "output_type": "stream",
          "text": [
            "C:\\Users\\bieli\\AppData\\Local\\Temp/ipykernel_29256/2384598415.py:2: DtypeWarning: Columns (25,108) have mixed types. Specify dtype option on import or set low_memory=False.\n",
            "  df = pd.read_csv('players_22.csv')\n"
          ]
        }
      ],
      "source": [
        "pos_nomes = [\"ST\", \"LW\", \"RW\", \"CAM\", \"CB\", \"LB\", \"RB\", \"LF\", \"RF\", \"CF\", \"GK\", \"LS\", \"RS\"]\n",
        "df = pd.read_csv('players_22.csv')\n",
        "pos_df = gerar_dfs(df, pos_nomes)\n",
        "pos_dict = dict(zip(pos_nomes, pos_df))"
      ]
    },
    {
      "cell_type": "code",
      "execution_count": 137,
      "metadata": {},
      "outputs": [
        {
          "name": "stdout",
          "output_type": "stream",
          "text": [
            "CF\n"
          ]
        }
      ],
      "source": [
        "kulusesvki = df.loc[df['short_name'] == 'D. Kulusevski']\n",
        "kulusesvki = tratar_df(kulusesvki)\n",
        "predict(pos_dict, pos_nomes, kulusesvki)\n",
        "havertz = df.loc[df['short_name'] == 'K. Havertz']\n",
        "havertz = tratar_df(havertz)\n",
        "print(predict(pos_dict, pos_nomes, havertz))"
      ]
    }
  ],
  "metadata": {
    "colab": {
      "collapsed_sections": [],
      "name": "algebralinear.ipynb",
      "provenance": []
    },
    "kernelspec": {
      "display_name": "Python 3.10.1 64-bit",
      "language": "python",
      "name": "python3"
    },
    "language_info": {
      "codemirror_mode": {
        "name": "ipython",
        "version": 3
      },
      "file_extension": ".py",
      "mimetype": "text/x-python",
      "name": "python",
      "nbconvert_exporter": "python",
      "pygments_lexer": "ipython3",
      "version": "3.10.1"
    },
    "vscode": {
      "interpreter": {
        "hash": "3b5483ff35a5fa8881e424a2d53be89a5051762ff5f6e84bb24552199f34b66a"
      }
    }
  },
  "nbformat": 4,
  "nbformat_minor": 0
}
