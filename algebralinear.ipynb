{
  "cells": [
    {
      "cell_type": "code",
      "execution_count": 3,
      "metadata": {
        "id": "c0Rz2GbkORF1"
      },
      "outputs": [],
      "source": [
        "import numpy as np\n",
        "import math \n",
        "import pandas as pd"
      ]
    },
    {
      "cell_type": "code",
      "execution_count": 4,
      "metadata": {
        "id": "guJMiRDaQHW8"
      },
      "outputs": [],
      "source": [
        "def norma(a):\n",
        "  a = np.array(a)\n",
        "  at = a.T\n",
        "  return math.sqrt(np.dot(a,at)) "
      ]
    },
    {
      "cell_type": "code",
      "execution_count": 5,
      "metadata": {
        "id": "wWgHnRD2Vw-S"
      },
      "outputs": [],
      "source": [
        "def normalizar(a):\n",
        "  a = np.array(a)\n",
        "  return a/norma(a)"
      ]
    },
    {
      "cell_type": "code",
      "execution_count": 6,
      "metadata": {
        "id": "cp3YQ-l0XVWH"
      },
      "outputs": [],
      "source": [
        "def dist(a,b):\n",
        "  a = np.array(a)\n",
        "  b = np.array(b)\n",
        "  return norma(b-a)"
      ]
    },
    {
      "cell_type": "code",
      "execution_count": 7,
      "metadata": {
        "colab": {
          "base_uri": "https://localhost:8080/"
        },
        "id": "ClSaH3IlOxL9",
        "outputId": "01daf031-f047-4720-a412-e6be83717878"
      },
      "outputs": [],
      "source": [
        "def projecao(a,b):\n",
        "  a = np.array(a)\n",
        "  b = np.array(b)\n",
        "  return np.dot(a,b)/np.dot(a,a)*a"
      ]
    },
    {
      "cell_type": "code",
      "execution_count": 8,
      "metadata": {},
      "outputs": [],
      "source": [
        "def cos(a,b):\n",
        "    p = projecao(a,b)\n",
        "    return norma(p)/norma(b)"
      ]
    },
    {
      "cell_type": "code",
      "execution_count": 9,
      "metadata": {},
      "outputs": [],
      "source": [
        "def avarage_vector(a):\n",
        "    a = np.array(a)\n",
        "    return np.mean(a,axis=0)"
      ]
    },
    {
      "cell_type": "code",
      "execution_count": 13,
      "metadata": {},
      "outputs": [
        {
          "data": {
            "text/plain": [
              "array([3.33333333, 4.33333333, 5.33333333])"
            ]
          },
          "execution_count": 13,
          "metadata": {},
          "output_type": "execute_result"
        }
      ],
      "source": [
        "a = np.array([[1,2,3],[2,3,4],[7,8,9]])\n",
        "avarage_vector(a)"
      ]
    },
    {
      "cell_type": "code",
      "execution_count": 17,
      "metadata": {},
      "outputs": [],
      "source": [
        "def tratar_df(df): # trata o dataframe, excluindo colunas inuteis.\n",
        "    df = df.loc[:, 'pace':'goalkeeping_reflexes']\n",
        "    #df = df.drop(['player_positions','long_name', 'wage_eur', 'dob', 'height_cm', 'weight_kg', 'club_team_id'], axis=1)\n",
        "    #df = df.drop(df.loc[:, 'club_jersey_number':'player_traits'], axis=1)\n",
        "    return df"
      ]
    },
    {
      "cell_type": "code",
      "execution_count": 20,
      "metadata": {},
      "outputs": [
        {
          "name": "stdout",
          "output_type": "stream",
          "text": [
            "[78.92857143 81.5        70.85714286 78.5        41.         75.28571429\n",
            " 69.28571429 84.57142857 80.21428571 74.92857143 77.07142857 78.21428571\n",
            " 70.21428571 60.71428571 65.         79.92857143 77.21428571 80.35714286\n",
            " 75.07142857 84.28571429 68.64285714 82.92857143 80.85714286 76.35714286\n",
            " 77.42857143 74.07142857 67.42857143 38.78571429 85.07142857 73.42857143\n",
            " 78.57142857 81.         37.28571429 36.42857143 30.78571429 10.42857143\n",
            " 10.28571429 11.14285714 11.35714286 10.14285714]\n"
          ]
        },
        {
          "name": "stderr",
          "output_type": "stream",
          "text": [
            "C:\\Users\\bieli\\AppData\\Local\\Temp/ipykernel_16244/529587726.py:1: DtypeWarning: Columns (25,108) have mixed types. Specify dtype option on import or set low_memory=False.\n",
            "  df = pd.read_csv('players_22.csv')\n"
          ]
        }
      ],
      "source": [
        "df = pd.read_csv('players_22.csv')\n",
        "ST_df = df[(df['club_position'] == 'ST') & (df['league_name'] == \"English Premier League\")] #Centroavantes da PL\n",
        "ST_df = tratar_df(ST_df)\n",
        "ST_arr = ST_df.to_numpy()\n",
        "print(avarage_vector(ST_arr))\n"
      ]
    }
  ],
  "metadata": {
    "colab": {
      "collapsed_sections": [],
      "name": "algebralinear.ipynb",
      "provenance": []
    },
    "kernelspec": {
      "display_name": "Python 3.10.1 64-bit",
      "language": "python",
      "name": "python3"
    },
    "language_info": {
      "codemirror_mode": {
        "name": "ipython",
        "version": 3
      },
      "file_extension": ".py",
      "mimetype": "text/x-python",
      "name": "python",
      "nbconvert_exporter": "python",
      "pygments_lexer": "ipython3",
      "version": "3.10.1"
    },
    "vscode": {
      "interpreter": {
        "hash": "3b5483ff35a5fa8881e424a2d53be89a5051762ff5f6e84bb24552199f34b66a"
      }
    }
  },
  "nbformat": 4,
  "nbformat_minor": 0
}
